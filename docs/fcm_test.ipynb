{
 "cells": [
  {
   "cell_type": "code",
   "execution_count": null,
   "metadata": {},
   "outputs": [],
   "source": [
    "# !pip install firebase-admin pyfcm\n",
    "import sys\n",
    "\n",
    "from dotenv import load_dotenv\n",
    "\n",
    "load_dotenv(\"../.env\")\n",
    "\n",
    "sys.path.insert(1, '../')"
   ]
  },
  {
   "cell_type": "code",
   "execution_count": null,
   "metadata": {},
   "outputs": [],
   "source": [
    "# TOKENS\n",
    "import test_user_tokens as ut\n",
    "\n",
    "s = ut.s\n",
    "n = ut.n\n",
    "a = ut.a\n",
    "s2 = ut.s2"
   ]
  },
  {
   "cell_type": "code",
   "execution_count": null,
   "metadata": {},
   "outputs": [],
   "source": [
    "from firebase_admin import messaging\n",
    "\n",
    "from internal.fcm import init_app\n",
    "\n",
    "default_app = init_app(False)\n",
    "\n",
    "type(default_app)"
   ]
  },
  {
   "cell_type": "code",
   "execution_count": null,
   "metadata": {},
   "outputs": [],
   "source": [
    "DRY_RUN = True\n",
    "DRY_RUN = False\n",
    "rt = a\n",
    "\n",
    "# See documentation on defining a message payload.\n",
    "locale = \"ru\"\n",
    "message = messaging.Message(\n",
    "    notification=messaging.Notification(\n",
    "        title=f\"Hello, world! {locale=}\",\n",
    "        body=\"This is a test notification\",\n",
    "        image=\"https://test-aurora-api.akorz.duckdns.org/media/aboba.png\",\n",
    "    ),\n",
    "    token=rt,\n",
    ")\n",
    "\n",
    "response = messaging.send(message, dry_run=DRY_RUN)\n",
    "print(\"Successfully sent message:\", response)"
   ]
  },
  {
   "cell_type": "code",
   "execution_count": null,
   "metadata": {},
   "outputs": [],
   "source": [
    "response"
   ]
  },
  {
   "cell_type": "code",
   "execution_count": null,
   "metadata": {},
   "outputs": [],
   "source": [
    "res = messaging.subscribe_to_topic([a, s], \"aboba\")\n",
    "res"
   ]
  },
  {
   "cell_type": "code",
   "execution_count": null,
   "metadata": {},
   "outputs": [],
   "source": [
    "res = messaging.subscribe_to_topic([n], \"aboba\")\n",
    "res"
   ]
  },
  {
   "cell_type": "code",
   "execution_count": null,
   "metadata": {},
   "outputs": [],
   "source": [
    "res.__dict__"
   ]
  },
  {
   "cell_type": "code",
   "execution_count": null,
   "metadata": {},
   "outputs": [],
   "source": [
    "res  = messaging.unsubscribe_from_topic([a, n], \"aboba\")\n",
    "res.__dict__"
   ]
  },
  {
   "cell_type": "code",
   "execution_count": null,
   "metadata": {},
   "outputs": [],
   "source": [
    "message = messaging.Message(\n",
    "    notification=messaging.Notification(\n",
    "        title=\"Hello, world!\",\n",
    "        body=\"This is a topic test notification\",\n",
    "        image=\"https://test-aurora-api.akorz.duckdns.org/media/aboba.png\",\n",
    "    ),\n",
    "    topic=\"aboba\",\n",
    ")\n",
    "\n",
    "response = messaging.send(message)\n",
    "print(response)"
   ]
  }
 ],
 "metadata": {
  "kernelspec": {
   "display_name": "aurora-api-oHN_lxhk-py3.11",
   "language": "python",
   "name": "python3"
  },
  "language_info": {
   "codemirror_mode": {
    "name": "ipython",
    "version": 3
   },
   "file_extension": ".py",
   "mimetype": "text/x-python",
   "name": "python",
   "nbconvert_exporter": "python",
   "pygments_lexer": "ipython3",
   "version": "3.11.9"
  }
 },
 "nbformat": 4,
 "nbformat_minor": 2
}
